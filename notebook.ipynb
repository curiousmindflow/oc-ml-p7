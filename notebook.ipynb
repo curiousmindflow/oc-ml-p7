{
 "cells": [
  {
   "cell_type": "markdown",
   "metadata": {},
   "source": [
    "# 0 Imports"
   ]
  },
  {
   "cell_type": "code",
   "execution_count": 1,
   "metadata": {},
   "outputs": [
    {
     "name": "stderr",
     "output_type": "stream",
     "text": [
      "/home/alex/.local/lib/python3.8/site-packages/tensorflow_addons/utils/ensure_tf_install.py:53: UserWarning: Tensorflow Addons supports using Python ops for all Tensorflow versions above or equal to 2.5.0 and strictly below 2.8.0 (nightly versions are not supported). \n",
      " The versions of TensorFlow you are currently using is 2.8.0 and is not supported. \n",
      "Some things might work, some things might not.\n",
      "If you were to encounter a bug, do not file an issue.\n",
      "If you want to make sure you're using a tested and supported configuration, either change the TensorFlow version or the TensorFlow Addons's version. \n",
      "You can find the compatibility matrix in TensorFlow Addon's readme:\n",
      "https://github.com/tensorflow/addons\n",
      "  warnings.warn(\n"
     ]
    },
    {
     "name": "stdout",
     "output_type": "stream",
     "text": [
      "-----------------------------------------\n",
      "GPU used: /device:GPU:0\n",
      "-----------------------------------------\n",
      "[name: \"/device:CPU:0\"\n",
      "device_type: \"CPU\"\n",
      "memory_limit: 268435456\n",
      "locality {\n",
      "}\n",
      "incarnation: 18227616092894452371\n",
      "xla_global_id: -1\n",
      ", name: \"/device:GPU:0\"\n",
      "device_type: \"GPU\"\n",
      "memory_limit: 3460038656\n",
      "locality {\n",
      "  bus_id: 1\n",
      "  links {\n",
      "  }\n",
      "}\n",
      "incarnation: 9991769021789372648\n",
      "physical_device_desc: \"device: 0, name: Quadro P2000, pci bus id: 0000:01:00.0, compute capability: 6.1\"\n",
      "xla_global_id: 416903419\n",
      "]\n"
     ]
    },
    {
     "name": "stderr",
     "output_type": "stream",
     "text": [
      "2022-02-13 17:27:10.632271: I tensorflow/core/platform/cpu_feature_guard.cc:151] This TensorFlow binary is optimized with oneAPI Deep Neural Network Library (oneDNN) to use the following CPU instructions in performance-critical operations:  AVX2 FMA\n",
      "To enable them in other operations, rebuild TensorFlow with the appropriate compiler flags.\n",
      "2022-02-13 17:27:10.648928: I tensorflow/stream_executor/cuda/cuda_gpu_executor.cc:936] successful NUMA node read from SysFS had negative value (-1), but there must be at least one NUMA node, so returning NUMA node zero\n",
      "2022-02-13 17:27:10.679088: I tensorflow/stream_executor/cuda/cuda_gpu_executor.cc:936] successful NUMA node read from SysFS had negative value (-1), but there must be at least one NUMA node, so returning NUMA node zero\n",
      "2022-02-13 17:27:10.679389: I tensorflow/stream_executor/cuda/cuda_gpu_executor.cc:936] successful NUMA node read from SysFS had negative value (-1), but there must be at least one NUMA node, so returning NUMA node zero\n",
      "2022-02-13 17:27:11.086709: I tensorflow/stream_executor/cuda/cuda_gpu_executor.cc:936] successful NUMA node read from SysFS had negative value (-1), but there must be at least one NUMA node, so returning NUMA node zero\n",
      "2022-02-13 17:27:11.086884: I tensorflow/stream_executor/cuda/cuda_gpu_executor.cc:936] successful NUMA node read from SysFS had negative value (-1), but there must be at least one NUMA node, so returning NUMA node zero\n",
      "2022-02-13 17:27:11.087007: I tensorflow/stream_executor/cuda/cuda_gpu_executor.cc:936] successful NUMA node read from SysFS had negative value (-1), but there must be at least one NUMA node, so returning NUMA node zero\n",
      "2022-02-13 17:27:11.087111: I tensorflow/core/common_runtime/gpu/gpu_device.cc:1525] Created device /device:GPU:0 with 3299 MB memory:  -> device: 0, name: Quadro P2000, pci bus id: 0000:01:00.0, compute capability: 6.1\n",
      "2022-02-13 17:27:11.087777: I tensorflow/stream_executor/cuda/cuda_gpu_executor.cc:936] successful NUMA node read from SysFS had negative value (-1), but there must be at least one NUMA node, so returning NUMA node zero\n",
      "2022-02-13 17:27:11.087915: I tensorflow/stream_executor/cuda/cuda_gpu_executor.cc:936] successful NUMA node read from SysFS had negative value (-1), but there must be at least one NUMA node, so returning NUMA node zero\n",
      "2022-02-13 17:27:11.088028: I tensorflow/stream_executor/cuda/cuda_gpu_executor.cc:936] successful NUMA node read from SysFS had negative value (-1), but there must be at least one NUMA node, so returning NUMA node zero\n",
      "2022-02-13 17:27:11.088175: I tensorflow/stream_executor/cuda/cuda_gpu_executor.cc:936] successful NUMA node read from SysFS had negative value (-1), but there must be at least one NUMA node, so returning NUMA node zero\n",
      "2022-02-13 17:27:11.088291: I tensorflow/stream_executor/cuda/cuda_gpu_executor.cc:936] successful NUMA node read from SysFS had negative value (-1), but there must be at least one NUMA node, so returning NUMA node zero\n",
      "2022-02-13 17:27:11.088372: I tensorflow/core/common_runtime/gpu/gpu_device.cc:1525] Created device /device:GPU:0 with 3299 MB memory:  -> device: 0, name: Quadro P2000, pci bus id: 0000:01:00.0, compute capability: 6.1\n",
      "2022-02-13 17:27:11.088627: I tensorflow/stream_executor/cuda/cuda_gpu_executor.cc:936] successful NUMA node read from SysFS had negative value (-1), but there must be at least one NUMA node, so returning NUMA node zero\n",
      "2022-02-13 17:27:11.088748: I tensorflow/stream_executor/cuda/cuda_gpu_executor.cc:936] successful NUMA node read from SysFS had negative value (-1), but there must be at least one NUMA node, so returning NUMA node zero\n",
      "2022-02-13 17:27:11.088857: I tensorflow/stream_executor/cuda/cuda_gpu_executor.cc:936] successful NUMA node read from SysFS had negative value (-1), but there must be at least one NUMA node, so returning NUMA node zero\n",
      "2022-02-13 17:27:11.088985: I tensorflow/stream_executor/cuda/cuda_gpu_executor.cc:936] successful NUMA node read from SysFS had negative value (-1), but there must be at least one NUMA node, so returning NUMA node zero\n",
      "2022-02-13 17:27:11.089097: I tensorflow/stream_executor/cuda/cuda_gpu_executor.cc:936] successful NUMA node read from SysFS had negative value (-1), but there must be at least one NUMA node, so returning NUMA node zero\n",
      "2022-02-13 17:27:11.089176: I tensorflow/core/common_runtime/gpu/gpu_device.cc:1525] Created device /device:GPU:0 with 3299 MB memory:  -> device: 0, name: Quadro P2000, pci bus id: 0000:01:00.0, compute capability: 6.1\n"
     ]
    }
   ],
   "source": [
    "import os, warnings, re, shutil\n",
    "from datetime import datetime\n",
    "from ast import literal_eval\n",
    "\n",
    "import numpy as np\n",
    "import pandas as pd\n",
    "import matplotlib.pyplot as plt\n",
    "%matplotlib inline\n",
    "import seaborn as sns\n",
    "\n",
    "from sklearn.model_selection import GridSearchCV, train_test_split\n",
    "from sklearn.feature_extraction.text import CountVectorizer, TfidfVectorizer\n",
    "from sklearn.decomposition import LatentDirichletAllocation\n",
    "from sklearn.metrics import multilabel_confusion_matrix, classification_report, ConfusionMatrixDisplay, accuracy_score, hamming_loss, precision_score, recall_score, f1_score\n",
    "from sklearn.multiclass import OneVsRestClassifier\n",
    "from sklearn.pipeline import Pipeline\n",
    "from sklearn.linear_model import LogisticRegression\n",
    "from sklearn.preprocessing import MultiLabelBinarizer, StandardScaler\n",
    "from skmultilearn.model_selection import iterative_train_test_split\n",
    "\n",
    "from bs4 import BeautifulSoup as bs\n",
    "import nltk\n",
    "from nltk import pos_tag\n",
    "from nltk.corpus import stopwords, wordnet\n",
    "from nltk.stem import SnowballStemmer, WordNetLemmatizer\n",
    "# nltk.download()\n",
    "from wordcloud import WordCloud\n",
    "\n",
    "import tensorflow as tf\n",
    "import tensorflow_hub as hub\n",
    "import tensorflow_text as text\n",
    "from official.nlp import optimization\n",
    "from tensorflow import keras\n",
    "from tensorflow.keras.layers import Input, Dropout, Dense\n",
    "from tensorflow.keras.models import Model\n",
    "from tensorflow.keras.optimizers import Adam\n",
    "from tensorflow.keras.callbacks import EarlyStopping\n",
    "from tensorflow.keras.initializers import TruncatedNormal\n",
    "from tensorflow.keras.losses import CategoricalCrossentropy, BinaryCrossentropy\n",
    "from tensorflow.keras.metrics import CategoricalAccuracy, AUC\n",
    "from tensorflow.keras.utils import to_categorical\n",
    "from tensorflow.keras.preprocessing.text import Tokenizer\n",
    "import bert\n",
    "from transformers import TFBertModel, BertConfig, BertTokenizerFast\n",
    "\n",
    "# tf.compat.v1.disable_eager_execution()\n",
    "tf.compat.v1.enable_eager_execution()\n",
    "\n",
    "import scripts\n",
    "\n",
    "def set_seed(seed=31415):\n",
    "    np.random.seed(seed)\n",
    "    tf.random.set_seed(seed)\n",
    "    os.environ['PYTHONHASHSEED'] = str(seed)\n",
    "set_seed()\n",
    "\n",
    "plt.rc('figure', autolayout=True)\n",
    "plt.rc('axes', labelweight='bold', labelsize='large',\n",
    "       titleweight='bold', titlesize=18, titlepad=10)\n",
    "plt.rc('image', cmap='magma')\n",
    "warnings.filterwarnings(\"ignore\")\n",
    "\n",
    "print(\"-----------------------------------------\")\n",
    "if tf.test.gpu_device_name():\n",
    "    print(f\"GPU used: {tf.test.gpu_device_name()}\")\n",
    "else:\n",
    "    print(f\"GPU not used\")\n",
    "print(\"-----------------------------------------\")\n",
    "\n",
    "from tensorflow.python.client import device_lib \n",
    "print(device_lib.list_local_devices())"
   ]
  },
  {
   "cell_type": "markdown",
   "metadata": {},
   "source": [
    "***\n",
    "# 1 Config"
   ]
  },
  {
   "cell_type": "code",
   "execution_count": 2,
   "metadata": {},
   "outputs": [],
   "source": [
    "config = {\n",
    "    \"raw_preprocessing\": False,\n",
    "    \"preprocessing\": False,\n",
    "    \"baseline\": False,\n",
    "    \"bert_base\": False,\n",
    "    \"bert_se\": False\n",
    "}"
   ]
  },
  {
   "cell_type": "markdown",
   "metadata": {},
   "source": [
    "***\n",
    "# 2 Preprocessing"
   ]
  },
  {
   "cell_type": "markdown",
   "metadata": {},
   "source": [
    "## 2.0 Utils"
   ]
  },
  {
   "cell_type": "code",
   "execution_count": 3,
   "metadata": {},
   "outputs": [],
   "source": [
    "def preproc_raw_data_body(cell):\n",
    "    soup = bs(cell, \"html.parser\")\n",
    "\n",
    "    script_tags = soup.find_all(\"script\")\n",
    "    for script_tag in script_tags:\n",
    "        script_tag.extract()\n",
    "\n",
    "    code_tags = soup.find_all(\"code\")\n",
    "    for code_tag in code_tags:\n",
    "        code_tag.extract()\n",
    "\n",
    "    preproc_cell = soup.get_text()\n",
    "    preproc_cell = preproc_cell.replace(',', ' ')\n",
    "\n",
    "    return preproc_cell"
   ]
  },
  {
   "cell_type": "code",
   "execution_count": 4,
   "metadata": {},
   "outputs": [],
   "source": [
    "def tags_to_list(cell):\n",
    "    return [tag for tag in re.split(r'[<>]', cell) if tag]"
   ]
  },
  {
   "cell_type": "code",
   "execution_count": 5,
   "metadata": {},
   "outputs": [],
   "source": [
    "def lower(cell):\n",
    "    return cell.lower()"
   ]
  },
  {
   "cell_type": "code",
   "execution_count": 6,
   "metadata": {},
   "outputs": [],
   "source": [
    "def tokenize(*texts):\n",
    "    tokens = []\n",
    "    for text in texts:\n",
    "        # https://regex101.com/\n",
    "        tokenizer = nltk.RegexpTokenizer(r'\\.?[a-z#]+')\n",
    "        tokens_temp = tokenizer.tokenize(text)\n",
    "        tokens += [re.sub(\"(.)\\\\1{3,}\", \"\\\\1\", token) for token in tokens_temp]\n",
    "    return tokens"
   ]
  },
  {
   "cell_type": "code",
   "execution_count": 7,
   "metadata": {},
   "outputs": [],
   "source": [
    "def remove_stop_words(cell):\n",
    "    return [word for word in cell if word not in stop_words]"
   ]
  },
  {
   "cell_type": "code",
   "execution_count": 8,
   "metadata": {},
   "outputs": [],
   "source": [
    "def get_wordnet_pos(treebank_tag):\n",
    "    if treebank_tag.startswith('J'):\n",
    "        return wordnet.ADJ\n",
    "    elif treebank_tag.startswith('V'):\n",
    "        return wordnet.VERB\n",
    "    elif treebank_tag.startswith('N'):\n",
    "        return wordnet.NOUN\n",
    "    elif treebank_tag.startswith('R'):\n",
    "        return wordnet.ADV\n",
    "    else:\n",
    "        return 'n'"
   ]
  },
  {
   "cell_type": "code",
   "execution_count": 9,
   "metadata": {},
   "outputs": [],
   "source": [
    "def tag_pos(cell):\n",
    "    treebank_tags = pos_tag(cell)\n",
    "    pos = [(tag[0], get_wordnet_pos(tag[1])) for tag in treebank_tags]\n",
    "    return pos"
   ]
  },
  {
   "cell_type": "code",
   "execution_count": 10,
   "metadata": {},
   "outputs": [],
   "source": [
    "def lemmatize(cell, with_pos=False):\n",
    "    lemmatizer = WordNetLemmatizer()\n",
    "    if not with_pos:\n",
    "        lemmatized_tokens = [lemmatizer.lemmatize(token) for token in cell]\n",
    "    else:\n",
    "        lemmatized_tokens = [lemmatizer.lemmatize(pair[0], pos=pair[1]) for pair in cell]\n",
    "    return lemmatized_tokens"
   ]
  },
  {
   "cell_type": "code",
   "execution_count": 11,
   "metadata": {},
   "outputs": [],
   "source": [
    "def stemmize(cell):\n",
    "    stemmer = SnowballStemmer(\"english\")\n",
    "    stemmed_tokens = [stemmer.stem(token) for token in cell]\n",
    "    return stemmed_tokens"
   ]
  },
  {
   "cell_type": "markdown",
   "metadata": {},
   "source": [
    "## 2.1 Loading raw data"
   ]
  },
  {
   "cell_type": "code",
   "execution_count": 12,
   "metadata": {},
   "outputs": [],
   "source": [
    "if config[\"raw_preprocessing\"]:\n",
    "\n",
    "    raw_data_body = pd.read_csv(\"data/raw_data_body.csv\")\n",
    "    raw_data_body.shape"
   ]
  },
  {
   "cell_type": "markdown",
   "metadata": {},
   "source": [
    "## 2.2 Parse html"
   ]
  },
  {
   "cell_type": "code",
   "execution_count": 13,
   "metadata": {},
   "outputs": [],
   "source": [
    "if config[\"raw_preprocessing\"]:\n",
    "\n",
    "    raw_data_body[\"Body\"] = raw_data_body.apply(lambda row: preproc_raw_data_body(row.Body), axis=1)"
   ]
  },
  {
   "cell_type": "markdown",
   "metadata": {},
   "source": [
    "## 2.3 Merge body with rest"
   ]
  },
  {
   "cell_type": "code",
   "execution_count": 14,
   "metadata": {},
   "outputs": [],
   "source": [
    "display = None\n",
    "\n",
    "if config[\"raw_preprocessing\"]:\n",
    "\n",
    "    raw_data_rest = pd.read_csv(\"data/raw_data_id_title_tags.csv\")\n",
    "    raw_data = raw_data_rest.join(raw_data_body)\n",
    "    raw_data = raw_data.set_index(\"Id\").reindex([\"Title\", \"Body\", \"Tags\"], axis=\"columns\")\n",
    "    raw_data[\"Sentence_Pristine\"] = raw_data.apply(lambda row: row[\"Title\"] + \" \" + row[\"Body\"], axis=\"columns\")\n",
    "    display = raw_data.head()\n",
    "\n",
    "display"
   ]
  },
  {
   "cell_type": "markdown",
   "metadata": {},
   "source": [
    "## 2.4 Tags to list"
   ]
  },
  {
   "cell_type": "code",
   "execution_count": 15,
   "metadata": {},
   "outputs": [],
   "source": [
    "display = None\n",
    "\n",
    "if config[\"raw_preprocessing\"]:\n",
    "\n",
    "    raw_data[\"Tags\"] = raw_data.apply(lambda row: tags_to_list(row[\"Tags\"]), axis=\"columns\")\n",
    "    display = raw_data[[\"Tags\"]].head()\n",
    "\n",
    "display"
   ]
  },
  {
   "cell_type": "markdown",
   "metadata": {},
   "source": [
    "## 2.5 Lowering"
   ]
  },
  {
   "cell_type": "code",
   "execution_count": 16,
   "metadata": {},
   "outputs": [],
   "source": [
    "display = None\n",
    "\n",
    "if config[\"raw_preprocessing\"]:\n",
    "\n",
    "    raw_data[\"Sentence_Pristine\"] = raw_data.apply(lambda row: lower(row[\"Sentence_Pristine\"]), axis=\"columns\")\n",
    "    display = raw_data[[\"Sentence_Pristine\"]].head()\n",
    "\n",
    "display"
   ]
  },
  {
   "cell_type": "markdown",
   "metadata": {},
   "source": [
    "## 2.6 Save raw preprocessed data"
   ]
  },
  {
   "cell_type": "code",
   "execution_count": 17,
   "metadata": {},
   "outputs": [],
   "source": [
    "if config[\"raw_preprocessing\"]:\n",
    "    \n",
    "    raw_data.drop(columns=[\"Title\", \"Body\"], inplace=True)\n",
    "    raw_data.to_csv(\"data/raw_data.csv\")"
   ]
  },
  {
   "cell_type": "markdown",
   "metadata": {},
   "source": [
    "## 2.7 Load raw preprocessed data"
   ]
  },
  {
   "cell_type": "code",
   "execution_count": 18,
   "metadata": {},
   "outputs": [],
   "source": [
    "if config[\"preprocessing\"]:\n",
    "    \n",
    "    data = pd.read_csv(\"data/raw_data.csv\", index_col=\"Id\")"
   ]
  },
  {
   "cell_type": "markdown",
   "metadata": {},
   "source": [
    "## 2.8 Tokenize"
   ]
  },
  {
   "cell_type": "code",
   "execution_count": 19,
   "metadata": {},
   "outputs": [],
   "source": [
    "display = None\n",
    "\n",
    "if config[\"preprocessing\"]:\n",
    "\n",
    "    data[\"Tokens\"] = data.apply(lambda row: tokenize(row[\"Sentence_Pristine\"]), axis=\"columns\")\n",
    "    display = data[[\"Sentence_Pristine\", \"Tokens\"]].head()\n",
    "\n",
    "display"
   ]
  },
  {
   "cell_type": "markdown",
   "metadata": {},
   "source": [
    "## 2.9 StopWords deletion"
   ]
  },
  {
   "cell_type": "code",
   "execution_count": 20,
   "metadata": {},
   "outputs": [],
   "source": [
    "display = None\n",
    "\n",
    "if config[\"preprocessing\"]:\n",
    "\n",
    "    stop_words = stopwords.words(\"english\")\n",
    "    data[\"Tokens\"] = data.apply(lambda row: remove_stop_words(row[\"Tokens\"]), axis=\"columns\")\n",
    "    display = data[[\"Sentence_Pristine\", \"Tokens\"]].head()\n",
    "\n",
    "display"
   ]
  },
  {
   "cell_type": "markdown",
   "metadata": {},
   "source": [
    "## 2.10 POS - Part-Of-Speech"
   ]
  },
  {
   "cell_type": "code",
   "execution_count": 21,
   "metadata": {},
   "outputs": [],
   "source": [
    "display = None\n",
    "\n",
    "if config[\"preprocessing\"]:\n",
    "\n",
    "    data[\"POS\"] = data.apply(lambda row: tag_pos(row[\"Tokens\"]), axis=\"columns\")\n",
    "    display = data[[\"Tokens\", \"POS\"]].head()\n",
    "\n",
    "display"
   ]
  },
  {
   "cell_type": "markdown",
   "metadata": {},
   "source": [
    "## 2.11 Lemmatize"
   ]
  },
  {
   "cell_type": "code",
   "execution_count": 22,
   "metadata": {},
   "outputs": [],
   "source": [
    "display = None\n",
    "\n",
    "if config[\"preprocessing\"]:\n",
    "\n",
    "    data[\"Lemmatized\"] = data.apply(lambda row: lemmatize(row[\"POS\"], with_pos=True), axis=\"columns\")\n",
    "    display = data[[\"Tokens\", \"Lemmatized\"]].head()\n",
    "\n",
    "display"
   ]
  },
  {
   "cell_type": "markdown",
   "metadata": {},
   "source": [
    "## 2.12 Stemmize"
   ]
  },
  {
   "cell_type": "code",
   "execution_count": 23,
   "metadata": {},
   "outputs": [],
   "source": [
    "display = None\n",
    "\n",
    "if config[\"preprocessing\"]:\n",
    "\n",
    "    data[\"LemmaAndStem\"] = data.apply(lambda row: stemmize(row[\"Tokens\"]), axis=\"columns\")\n",
    "    display = data[[\"Tokens\", \"LemmaAndStem\"]].head()\n",
    "\n",
    "display"
   ]
  },
  {
   "cell_type": "markdown",
   "metadata": {},
   "source": [
    "## 2.13 Generating sentence"
   ]
  },
  {
   "cell_type": "code",
   "execution_count": 24,
   "metadata": {},
   "outputs": [],
   "source": [
    "display = None\n",
    "\n",
    "if config[\"preprocessing\"]:\n",
    "\n",
    "    data[\"Sentence\"] = data.apply(lambda row: \" \".join([str(item) for item in row[\"LemmaAndStem\"]]), axis=\"columns\")\n",
    "    display = data[[\"LemmaAndStem\", \"Sentence\"]].head()\n",
    "\n",
    "display"
   ]
  },
  {
   "cell_type": "markdown",
   "metadata": {},
   "source": [
    "## 2.14 Saving data"
   ]
  },
  {
   "cell_type": "code",
   "execution_count": 25,
   "metadata": {},
   "outputs": [],
   "source": [
    "display = None\n",
    "\n",
    "if config[\"preprocessing\"]:\n",
    "\n",
    "    data.to_csv(\"data/data_cleaned.csv\", index_label=\"Id\")\n",
    "    display = data.head()\n",
    "\n",
    "display"
   ]
  },
  {
   "cell_type": "markdown",
   "metadata": {},
   "source": [
    "***\n",
    "# 3 Data preparation"
   ]
  },
  {
   "cell_type": "markdown",
   "metadata": {},
   "source": [
    "## 3.0 Utils"
   ]
  },
  {
   "cell_type": "code",
   "execution_count": 26,
   "metadata": {},
   "outputs": [],
   "source": [
    "def bow(dataset, max_features=None, min_df=0.0, max_df=1.0):\n",
    "    vectorizer = CountVectorizer(analyzer=\"word\", tokenizer=None, preprocessor=None, stop_words=None, max_features=max_features, max_df=max_df, min_df=min_df)\n",
    "    matrix = vectorizer.fit_transform(dataset)\n",
    "\n",
    "    data_dense = matrix.todense()\n",
    "    print(f\"Sparcity: {((data_dense > 0).sum() / data_dense.size)*100:.4}%\")\n",
    "\n",
    "    vocab = vectorizer.get_feature_names_out()\n",
    "\n",
    "    matrix = matrix.toarray()\n",
    "    bag = pd.DataFrame(data=matrix, columns=vocab)\n",
    "    return bag, vectorizer"
   ]
  },
  {
   "cell_type": "code",
   "execution_count": 27,
   "metadata": {},
   "outputs": [],
   "source": [
    "def tfidf(dataset, max_features=None, min_df=0.0, max_df=1.0):\n",
    "    vectorizer = TfidfVectorizer(tokenizer=None, stop_words=None, max_features=max_features, min_df=min_df, max_df=max_df)\n",
    "    matrix = vectorizer.fit_transform(dataset).toarray()\n",
    "    vocab = vectorizer.get_feature_names_out()\n",
    "    tfidf = pd.DataFrame(data=matrix, columns=vocab)\n",
    "    return tfidf, vectorizer"
   ]
  },
  {
   "cell_type": "markdown",
   "metadata": {},
   "source": [
    "## 3.1 Loading"
   ]
  },
  {
   "cell_type": "code",
   "execution_count": 28,
   "metadata": {},
   "outputs": [
    {
     "data": {
      "text/html": [
       "<div>\n",
       "<style scoped>\n",
       "    .dataframe tbody tr th:only-of-type {\n",
       "        vertical-align: middle;\n",
       "    }\n",
       "\n",
       "    .dataframe tbody tr th {\n",
       "        vertical-align: top;\n",
       "    }\n",
       "\n",
       "    .dataframe thead th {\n",
       "        text-align: right;\n",
       "    }\n",
       "</style>\n",
       "<table border=\"1\" class=\"dataframe\">\n",
       "  <thead>\n",
       "    <tr style=\"text-align: right;\">\n",
       "      <th></th>\n",
       "      <th>Tags</th>\n",
       "      <th>Sentence_Pristine</th>\n",
       "      <th>Tokens</th>\n",
       "      <th>POS</th>\n",
       "      <th>Lemmatized</th>\n",
       "      <th>LemmaAndStem</th>\n",
       "      <th>Sentence</th>\n",
       "    </tr>\n",
       "  </thead>\n",
       "  <tbody>\n",
       "    <tr>\n",
       "      <th>0</th>\n",
       "      <td>[c#, floating-point, type-conversion, double, ...</td>\n",
       "      <td>how to convert a decimal to a double in c#? i ...</td>\n",
       "      <td>['convert', 'decimal', 'double', 'c#', 'want',...</td>\n",
       "      <td>[('convert', 'n'), ('decimal', 'n'), ('double'...</td>\n",
       "      <td>['convert', 'decimal', 'double', 'c#', 'want',...</td>\n",
       "      <td>['convert', 'decim', 'doubl', 'c#', 'want', 'u...</td>\n",
       "      <td>convert decim doubl c# want use chang opac cod...</td>\n",
       "    </tr>\n",
       "    <tr>\n",
       "      <th>1</th>\n",
       "      <td>[html, css, internet-explorer-7]</td>\n",
       "      <td>why did the width collapse in the percentage w...</td>\n",
       "      <td>['width', 'collapse', 'percentage', 'width', '...</td>\n",
       "      <td>[('width', 'n'), ('collapse', 'n'), ('percenta...</td>\n",
       "      <td>['width', 'collapse', 'percentage', 'width', '...</td>\n",
       "      <td>['width', 'collaps', 'percentag', 'width', 'ch...</td>\n",
       "      <td>width collaps percentag width child element ab...</td>\n",
       "    </tr>\n",
       "    <tr>\n",
       "      <th>2</th>\n",
       "      <td>[c#, .net, datetime]</td>\n",
       "      <td>how do i calculate someone's age based on a da...</td>\n",
       "      <td>['calculate', 'someone', 'age', 'based', 'date...</td>\n",
       "      <td>[('calculate', 'n'), ('someone', 'n'), ('age',...</td>\n",
       "      <td>['calculate', 'someone', 'age', 'base', 'datet...</td>\n",
       "      <td>['calcul', 'someon', 'age', 'base', 'datetim',...</td>\n",
       "      <td>calcul someon age base datetim type birthday g...</td>\n",
       "    </tr>\n",
       "    <tr>\n",
       "      <th>3</th>\n",
       "      <td>[c#, datetime, time, datediff, relative-time-s...</td>\n",
       "      <td>calculate relative time in c# given a specific...</td>\n",
       "      <td>['calculate', 'relative', 'time', 'c#', 'given...</td>\n",
       "      <td>[('calculate', 'v'), ('relative', 'a'), ('time...</td>\n",
       "      <td>['calculate', 'relative', 'time', 'c#', 'give'...</td>\n",
       "      <td>['calcul', 'relat', 'time', 'c#', 'given', 'sp...</td>\n",
       "      <td>calcul relat time c# given specif valu display...</td>\n",
       "    </tr>\n",
       "    <tr>\n",
       "      <th>4</th>\n",
       "      <td>[html, browser, timezone, user-agent, timezone...</td>\n",
       "      <td>determine a user's timezone is there a standar...</td>\n",
       "      <td>['determine', 'user', 'timezone', 'standard', ...</td>\n",
       "      <td>[('determine', 'v'), ('user', 'n'), ('timezone...</td>\n",
       "      <td>['determine', 'user', 'timezone', 'standard', ...</td>\n",
       "      <td>['determin', 'user', 'timezon', 'standard', 'w...</td>\n",
       "      <td>determin user timezon standard way web server ...</td>\n",
       "    </tr>\n",
       "  </tbody>\n",
       "</table>\n",
       "</div>"
      ],
      "text/plain": [
       "                                                Tags  \\\n",
       "0  [c#, floating-point, type-conversion, double, ...   \n",
       "1                   [html, css, internet-explorer-7]   \n",
       "2                               [c#, .net, datetime]   \n",
       "3  [c#, datetime, time, datediff, relative-time-s...   \n",
       "4  [html, browser, timezone, user-agent, timezone...   \n",
       "\n",
       "                                   Sentence_Pristine  \\\n",
       "0  how to convert a decimal to a double in c#? i ...   \n",
       "1  why did the width collapse in the percentage w...   \n",
       "2  how do i calculate someone's age based on a da...   \n",
       "3  calculate relative time in c# given a specific...   \n",
       "4  determine a user's timezone is there a standar...   \n",
       "\n",
       "                                              Tokens  \\\n",
       "0  ['convert', 'decimal', 'double', 'c#', 'want',...   \n",
       "1  ['width', 'collapse', 'percentage', 'width', '...   \n",
       "2  ['calculate', 'someone', 'age', 'based', 'date...   \n",
       "3  ['calculate', 'relative', 'time', 'c#', 'given...   \n",
       "4  ['determine', 'user', 'timezone', 'standard', ...   \n",
       "\n",
       "                                                 POS  \\\n",
       "0  [('convert', 'n'), ('decimal', 'n'), ('double'...   \n",
       "1  [('width', 'n'), ('collapse', 'n'), ('percenta...   \n",
       "2  [('calculate', 'n'), ('someone', 'n'), ('age',...   \n",
       "3  [('calculate', 'v'), ('relative', 'a'), ('time...   \n",
       "4  [('determine', 'v'), ('user', 'n'), ('timezone...   \n",
       "\n",
       "                                          Lemmatized  \\\n",
       "0  ['convert', 'decimal', 'double', 'c#', 'want',...   \n",
       "1  ['width', 'collapse', 'percentage', 'width', '...   \n",
       "2  ['calculate', 'someone', 'age', 'base', 'datet...   \n",
       "3  ['calculate', 'relative', 'time', 'c#', 'give'...   \n",
       "4  ['determine', 'user', 'timezone', 'standard', ...   \n",
       "\n",
       "                                        LemmaAndStem  \\\n",
       "0  ['convert', 'decim', 'doubl', 'c#', 'want', 'u...   \n",
       "1  ['width', 'collaps', 'percentag', 'width', 'ch...   \n",
       "2  ['calcul', 'someon', 'age', 'base', 'datetim',...   \n",
       "3  ['calcul', 'relat', 'time', 'c#', 'given', 'sp...   \n",
       "4  ['determin', 'user', 'timezon', 'standard', 'w...   \n",
       "\n",
       "                                            Sentence  \n",
       "0  convert decim doubl c# want use chang opac cod...  \n",
       "1  width collaps percentag width child element ab...  \n",
       "2  calcul someon age base datetim type birthday g...  \n",
       "3  calcul relat time c# given specif valu display...  \n",
       "4  determin user timezon standard way web server ...  "
      ]
     },
     "execution_count": 28,
     "metadata": {},
     "output_type": "execute_result"
    }
   ],
   "source": [
    "data = pd.read_csv(\"data/data_cleaned.csv\", index_col=\"Id\")\n",
    "data = data.reset_index()\n",
    "data = data.iloc[:, 1:]\n",
    "\n",
    "data[\"Tags\"] = data[\"Tags\"].apply(eval)\n",
    "\n",
    "data.head()"
   ]
  },
  {
   "cell_type": "markdown",
   "metadata": {},
   "source": [
    "## 3.2 Tags"
   ]
  },
  {
   "cell_type": "code",
   "execution_count": 29,
   "metadata": {},
   "outputs": [
    {
     "data": {
      "text/html": [
       "<div>\n",
       "<style scoped>\n",
       "    .dataframe tbody tr th:only-of-type {\n",
       "        vertical-align: middle;\n",
       "    }\n",
       "\n",
       "    .dataframe tbody tr th {\n",
       "        vertical-align: top;\n",
       "    }\n",
       "\n",
       "    .dataframe thead th {\n",
       "        text-align: right;\n",
       "    }\n",
       "</style>\n",
       "<table border=\"1\" class=\"dataframe\">\n",
       "  <thead>\n",
       "    <tr style=\"text-align: right;\">\n",
       "      <th></th>\n",
       "      <th>Tags</th>\n",
       "    </tr>\n",
       "  </thead>\n",
       "  <tbody>\n",
       "    <tr>\n",
       "      <th>0</th>\n",
       "      <td>[c#, floating-point, type-conversion, double, ...</td>\n",
       "    </tr>\n",
       "    <tr>\n",
       "      <th>1</th>\n",
       "      <td>[html, css, internet-explorer-7]</td>\n",
       "    </tr>\n",
       "    <tr>\n",
       "      <th>2</th>\n",
       "      <td>[c#, .net, datetime]</td>\n",
       "    </tr>\n",
       "    <tr>\n",
       "      <th>3</th>\n",
       "      <td>[c#, datetime, time, datediff, relative-time-s...</td>\n",
       "    </tr>\n",
       "    <tr>\n",
       "      <th>4</th>\n",
       "      <td>[html, browser, timezone, user-agent, timezone...</td>\n",
       "    </tr>\n",
       "  </tbody>\n",
       "</table>\n",
       "</div>"
      ],
      "text/plain": [
       "                                                Tags\n",
       "0  [c#, floating-point, type-conversion, double, ...\n",
       "1                   [html, css, internet-explorer-7]\n",
       "2                               [c#, .net, datetime]\n",
       "3  [c#, datetime, time, datediff, relative-time-s...\n",
       "4  [html, browser, timezone, user-agent, timezone..."
      ]
     },
     "execution_count": 29,
     "metadata": {},
     "output_type": "execute_result"
    }
   ],
   "source": [
    "data[[\"Tags\"]].head()"
   ]
  },
  {
   "cell_type": "code",
   "execution_count": 30,
   "metadata": {},
   "outputs": [
    {
     "data": {
      "text/plain": [
       "array([list(['c#', 'floating-point', 'type-conversion', 'double', 'decimal']),\n",
       "       list(['html', 'css', 'internet-explorer-7']),\n",
       "       list(['c#', '.net', 'datetime']), ...,\n",
       "       list(['css', 'xhtml', 'refactoring']),\n",
       "       list(['python', 'class', 'anonymous-class']),\n",
       "       list(['c', 'linux', 'file', 'io', 'std'])], dtype=object)"
      ]
     },
     "execution_count": 30,
     "metadata": {},
     "output_type": "execute_result"
    }
   ],
   "source": [
    "data.Tags.values"
   ]
  },
  {
   "cell_type": "code",
   "execution_count": 31,
   "metadata": {},
   "outputs": [],
   "source": [
    "tags = []\n",
    "for row in data.Tags.values:\n",
    "    tags += row\n",
    "tags_df = pd.DataFrame(data=tags, columns=[\"Tag\"]).value_counts().reset_index()\n",
    "tags_df.columns = [\"Tag\", \"Count\"]"
   ]
  },
  {
   "cell_type": "code",
   "execution_count": 32,
   "metadata": {},
   "outputs": [
    {
     "name": "stdout",
     "output_type": "stream",
     "text": [
      "<class 'pandas.core.frame.DataFrame'>\n",
      "RangeIndex: 9252 entries, 0 to 9251\n",
      "Data columns (total 2 columns):\n",
      " #   Column  Non-Null Count  Dtype \n",
      "---  ------  --------------  ----- \n",
      " 0   Tag     9252 non-null   object\n",
      " 1   Count   9252 non-null   int64 \n",
      "dtypes: int64(1), object(1)\n",
      "memory usage: 144.7+ KB\n"
     ]
    }
   ],
   "source": [
    "tags_df.info()"
   ]
  },
  {
   "cell_type": "code",
   "execution_count": 33,
   "metadata": {},
   "outputs": [
    {
     "data": {
      "text/html": [
       "<div>\n",
       "<style scoped>\n",
       "    .dataframe tbody tr th:only-of-type {\n",
       "        vertical-align: middle;\n",
       "    }\n",
       "\n",
       "    .dataframe tbody tr th {\n",
       "        vertical-align: top;\n",
       "    }\n",
       "\n",
       "    .dataframe thead th {\n",
       "        text-align: right;\n",
       "    }\n",
       "</style>\n",
       "<table border=\"1\" class=\"dataframe\">\n",
       "  <thead>\n",
       "    <tr style=\"text-align: right;\">\n",
       "      <th></th>\n",
       "      <th>Tag</th>\n",
       "      <th>Count</th>\n",
       "    </tr>\n",
       "  </thead>\n",
       "  <tbody>\n",
       "    <tr>\n",
       "      <th>0</th>\n",
       "      <td>c#</td>\n",
       "      <td>6448</td>\n",
       "    </tr>\n",
       "    <tr>\n",
       "      <th>1</th>\n",
       "      <td>.net</td>\n",
       "      <td>5174</td>\n",
       "    </tr>\n",
       "    <tr>\n",
       "      <th>2</th>\n",
       "      <td>java</td>\n",
       "      <td>3758</td>\n",
       "    </tr>\n",
       "    <tr>\n",
       "      <th>3</th>\n",
       "      <td>asp.net</td>\n",
       "      <td>3261</td>\n",
       "    </tr>\n",
       "    <tr>\n",
       "      <th>4</th>\n",
       "      <td>c++</td>\n",
       "      <td>2691</td>\n",
       "    </tr>\n",
       "  </tbody>\n",
       "</table>\n",
       "</div>"
      ],
      "text/plain": [
       "       Tag  Count\n",
       "0       c#   6448\n",
       "1     .net   5174\n",
       "2     java   3758\n",
       "3  asp.net   3261\n",
       "4      c++   2691"
      ]
     },
     "execution_count": 33,
     "metadata": {},
     "output_type": "execute_result"
    }
   ],
   "source": [
    "tags_df.head()"
   ]
  },
  {
   "cell_type": "code",
   "execution_count": 34,
   "metadata": {},
   "outputs": [
    {
     "data": {
      "image/png": "[encoded data removed]",
      "text/plain": [
       "<Figure size 1080x288 with 1 Axes>"
      ]
     },
     "metadata": {
      "needs_background": "light"
     },
     "output_type": "display_data"
    }
   ],
   "source": [
    "plt.figure(figsize=(15, 4))\n",
    "\n",
    "sns.barplot(data=tags_df.iloc[:20], x=\"Tag\", y=\"Count\")\n",
    "\n",
    "plt.title(\"Tag count\", size=20)\n",
    "plt.xlabel(\"Tag\", size=16)\n",
    "plt.ylabel(\"Count\", size=16)\n",
    "plt.xticks(rotation=45, size=16, ha=\"right\")\n",
    "plt.yticks(size=16)\n",
    "plt.show()"
   ]
  },
  {
   "cell_type": "code",
   "execution_count": 35,
   "metadata": {},
   "outputs": [
    {
     "data": {
      "image/png": "[encoded data removed]",
      "text/plain": [
       "<Figure size 1080x216 with 1 Axes>"
      ]
     },
     "metadata": {
      "needs_background": "light"
     },
     "output_type": "display_data"
    }
   ],
   "source": [
    "plt.figure(figsize=(15, 3))\n",
    "\n",
    "ax = sns.ecdfplot(data=tags_df, x=\"Count\", log_scale=True)\n",
    "\n",
    "plt.axhline(0.98, linestyle=\"--\", linewidth=1, color=\"r\")\n",
    "plt.axvline(100, linestyle=\"--\", linewidth=1, color=\"r\")\n",
    "\n",
    "plt.title(\"Cummulative coverage percentage\", size=20)\n",
    "plt.xlabel(\"Number of post\", size=16)\n",
    "plt.ylabel(\"Proportion\", size=16)\n",
    "plt.xticks(rotation=45, size=16, ha=\"right\")\n",
    "plt.yticks(size=16)\n",
    "plt.show()"
   ]
  },
  {
   "cell_type": "code",
   "execution_count": 36,
   "metadata": {},
   "outputs": [
    {
     "name": "stdout",
     "output_type": "stream",
     "text": [
      "<class 'pandas.core.frame.DataFrame'>\n",
      "RangeIndex: 100 entries, 0 to 99\n",
      "Data columns (total 2 columns):\n",
      " #   Column  Non-Null Count  Dtype \n",
      "---  ------  --------------  ----- \n",
      " 0   Tag     100 non-null    object\n",
      " 1   Count   100 non-null    int64 \n",
      "dtypes: int64(1), object(1)\n",
      "memory usage: 1.7+ KB\n"
     ]
    }
   ],
   "source": [
    "tags_df = tags_df[:100]\n",
    "tags_df.info()"
   ]
  },
  {
   "cell_type": "code",
   "execution_count": 37,
   "metadata": {},
   "outputs": [
    {
     "data": {
      "image/png": "[encoded data removed]",
      "text/plain": [
       "<Figure size 1080x360 with 1 Axes>"
      ]
     },
     "metadata": {
      "needs_background": "light"
     },
     "output_type": "display_data"
    }
   ],
   "source": [
    "word_frequencies = dict(zip(tags_df.Tag, tags_df.Count))\n",
    "wordcloud = WordCloud(background_color=\"black\", width=1600, height=800).generate_from_frequencies(word_frequencies)\n",
    "\n",
    "fig = plt.figure(figsize=(15, 5))\n",
    "plt.imshow(wordcloud)\n",
    "plt.axis(\"off\")\n",
    "plt.tight_layout(pad=0)\n",
    "plt.show()"
   ]
  },
  {
   "cell_type": "code",
   "execution_count": 38,
   "metadata": {},
   "outputs": [],
   "source": [
    "tags = tags_df.Tag.tolist()"
   ]
  },
  {
   "cell_type": "code",
   "execution_count": 39,
   "metadata": {},
   "outputs": [
    {
     "data": {
      "text/plain": [
       "['c#',\n",
       " '.net',\n",
       " 'java',\n",
       " 'asp.net',\n",
       " 'c++',\n",
       " 'javascript',\n",
       " 'php',\n",
       " 'sql-server',\n",
       " 'python',\n",
       " 'sql',\n",
       " 'windows',\n",
       " 'html',\n",
       " 'visual-studio',\n",
       " 'database',\n",
       " 'c',\n",
       " 'mysql',\n",
       " 'xml',\n",
       " 'winforms',\n",
       " 'ruby',\n",
       " 'vb.net']"
      ]
     },
     "execution_count": 39,
     "metadata": {},
     "output_type": "execute_result"
    }
   ],
   "source": [
    "tags[:20]"
   ]
  },
  {
   "cell_type": "code",
   "execution_count": 40,
   "metadata": {},
   "outputs": [],
   "source": [
    "def find_or_remove(cell, word_list):\n",
    "    return [word for word in cell if word in word_list]"
   ]
  },
  {
   "cell_type": "code",
   "execution_count": 41,
   "metadata": {},
   "outputs": [],
   "source": [
    "data[\"Tags_Reduced\"] = data.apply(lambda row: find_or_remove(row[\"Tags\"], tags),axis=\"columns\")"
   ]
  },
  {
   "cell_type": "code",
   "execution_count": 42,
   "metadata": {},
   "outputs": [
    {
     "data": {
      "text/plain": [
       "False"
      ]
     },
     "execution_count": 42,
     "metadata": {},
     "output_type": "execute_result"
    }
   ],
   "source": [
    "data[\"Tags_Reduced\"].isna().any()"
   ]
  },
  {
   "cell_type": "code",
   "execution_count": 43,
   "metadata": {},
   "outputs": [
    {
     "data": {
      "text/plain": [
       "0               [c#]\n",
       "1        [html, css]\n",
       "2         [c#, .net]\n",
       "3               [c#]\n",
       "4    [html, browser]\n",
       "Name: Tags_Reduced, dtype: object"
      ]
     },
     "execution_count": 43,
     "metadata": {},
     "output_type": "execute_result"
    }
   ],
   "source": [
    "data[\"Tags_Reduced\"].head()"
   ]
  },
  {
   "cell_type": "markdown",
   "metadata": {},
   "source": [
    "***\n",
    "# 4 Baseline"
   ]
  },
  {
   "cell_type": "markdown",
   "metadata": {},
   "source": [
    "## 4.0 Utils"
   ]
  },
  {
   "cell_type": "code",
   "execution_count": 44,
   "metadata": {},
   "outputs": [],
   "source": [
    "# https://www.machinelearningplus.com/nlp/topic-modeling-python-sklearn-examples/#9buildldamodelwithsklearn\n",
    "#\n",
    "def latent_dirichlet_allocation_tuning(dataset: pd.DataFrame, param_grid: dict):\n",
    "    data_bow, vectorizer = bow(dataset, min_df=.005)\n",
    "    feature_names = data_bow.columns\n",
    "\n",
    "    lda = LatentDirichletAllocation()\n",
    "    gs = GridSearchCV(lda, param_grid)\n",
    "    gs.fit(data_bow)\n",
    "\n",
    "    lda_model = gs.best_estimator_\n",
    "    lda_output = lda_model.transform(data_bow)\n",
    "    topic_names = [\"Topic\"+str(i) for i in range(lda_model.n_components)]\n",
    "\n",
    "    lda_output_dataframe = pd.DataFrame(np.round(lda_output, 2), columns=topic_names)\n",
    "\n",
    "    return gs, feature_names, data_bow, vectorizer, lda_output_dataframe"
   ]
  },
  {
   "cell_type": "code",
   "execution_count": 45,
   "metadata": {},
   "outputs": [],
   "source": [
    "def get_dominant_topic(lda_model, data_bow, dataset_row_nb):\n",
    "    lda_output = lda_model.transform(data_bow)\n",
    "\n",
    "    topic_names = [\"Topic\"+str(i) for i in range(lda_model.n_components)]\n",
    "    doc_names = [\"Doc\"+str(i) for i in range(dataset_row_nb)]\n",
    "\n",
    "    df_document_topic = pd.DataFrame(np.round(lda_output, 2), columns=topic_names, index=doc_names)\n",
    "\n",
    "    dominant_topics = np.argmax(df_document_topic.values, axis=1)\n",
    "    df_document_topic[\"Dominant_Topic\"] = dominant_topics\n",
    "\n",
    "    return df_document_topic"
   ]
  },
  {
   "cell_type": "code",
   "execution_count": 46,
   "metadata": {},
   "outputs": [],
   "source": [
    "def topic_distribution(dominant_topic_df):\n",
    "    distribution = dominant_topic_df[\"Dominant_Topic\"].value_counts().reset_index()\n",
    "    distribution.columns = [\"Dominant_Topic\", \"Count\"]\n",
    "\n",
    "    plt.figure(figsize=(15, 4))\n",
    "\n",
    "    sns.countplot(data=dominant_topic_df, x=\"Dominant_Topic\")\n",
    "\n",
    "    plt.title(\"Tag count\", size=20)\n",
    "    plt.xlabel(\"Tag\", size=16)\n",
    "    plt.ylabel(\"Count\", size=16)\n",
    "    plt.xticks(rotation=45, size=16, ha=\"right\")\n",
    "    plt.yticks(size=16)\n",
    "    plt.show()\n",
    "\n",
    "    return distribution"
   ]
  },
  {
   "cell_type": "code",
   "execution_count": 47,
   "metadata": {},
   "outputs": [],
   "source": [
    "def topic_words(lda_model, feature_names, n_words=20):\n",
    "    keywords = np.array(feature_names)\n",
    "    topic_keywords = []\n",
    "    for topic_weight in lda_model.components_:\n",
    "        topic_keyword_locs = (-topic_weight).argsort()[:n_words]\n",
    "        topic_keywords.append(feature_names.take(topic_keyword_locs))\n",
    "    \n",
    "    topic_keywords_df = pd.DataFrame(data=topic_keywords)\n",
    "    topic_keywords_df.columns = [\"Word\"+str(i) for i in range(topic_keywords_df.shape[1])]\n",
    "    topic_keywords_df.index = [\"Topic\"+str(i) for i in range(topic_keywords_df.shape[0])]\n",
    "    return topic_keywords_df"
   ]
  },
  {
   "cell_type": "code",
   "execution_count": 48,
   "metadata": {},
   "outputs": [],
   "source": [
    "def make_prediction(lda_model, sentence, vectorizer, topic_keywords_dataset):\n",
    "    sentence = scripts.preprocess_sentence(sentence)\n",
    "    data_bow = vectorizer.transform([sentence])\n",
    "    topic_probability_score = lda_model.transform(data_bow)\n",
    "    topic = topic_keywords_dataset.iloc[np.argmax(topic_probability_score), :]\n",
    "    topic_name = topic.name\n",
    "    topic_words = topic.values.tolist()\n",
    "    return topic_name, topic_words, topic_probability_score"
   ]
  },
  {
   "cell_type": "code",
   "execution_count": 49,
   "metadata": {},
   "outputs": [],
   "source": [
    "def classifier_tuning_post_lda(dataset_X: pd.DataFrame, dataset_y: pd.DataFrame, meta_model, model, param_grid: dict, scoring: str = \"f1_micro\"):\n",
    "    start = datetime.now()\n",
    "\n",
    "    # target multi label binarizer\n",
    "    multi_label_binarizer = MultiLabelBinarizer()\n",
    "    y = multi_label_binarizer.fit_transform(dataset_y)\n",
    "\n",
    "    feature_names = dataset_X.columns\n",
    "    classes = multi_label_binarizer.classes_\n",
    "\n",
    "    X_train, X_test, y_train, y_test = train_test_split(dataset_X, y, test_size = 0.33, random_state = 1)\n",
    "\n",
    "    scaler = StandardScaler()\n",
    "    X_train = scaler.fit_transform(X_train)\n",
    "    X_test = scaler.transform(X_test)\n",
    "\n",
    "    # multioutput or onevsrest ...\n",
    "    meta_model.fit(X_train, y_train)\n",
    "\n",
    "    # gridsearch tuning/fitting\n",
    "    gs = GridSearchCV(meta_model, param_grid, scoring=scoring, refit=True)\n",
    "    gs.fit(X_train, y_train)\n",
    "\n",
    "    # advanced evaluation\n",
    "    best_model = gs.best_estimator_\n",
    "    y_pred = best_model.predict(X_test)\n",
    "\n",
    "    print(f\"classifier_tuning > Time taken to run this cell : {datetime.now() - start} \\n\")\n",
    "\n",
    "    return gs, classes, y_test, y_pred"
   ]
  },
  {
   "cell_type": "code",
   "execution_count": 50,
   "metadata": {},
   "outputs": [],
   "source": [
    "def evaluate(gs, classes, y_test, y_pred):\n",
    "    start = datetime.now()\n",
    "\n",
    "    print(\"Accuracy :\", accuracy_score(y_test, y_pred))\n",
    "    print(\"Hamming loss \", hamming_loss(y_test, y_pred))\n",
    "\n",
    "    precision = precision_score(y_test, y_pred, average='micro')\n",
    "    recall = recall_score(y_test, y_pred, average='micro')\n",
    "    f1 = f1_score(y_test, y_pred, average='micro')\n",
    "    \n",
    "    print(\"Micro-average quality numbers\")\n",
    "    print(\"Precision: {:.4f}, Recall: {:.4f}, F1-measure: {:.4f}\".format(precision, recall, f1))\n",
    "\n",
    "    precision = precision_score(y_test, y_pred, average='macro')\n",
    "    recall = recall_score(y_test, y_pred, average='macro')\n",
    "    f1 = f1_score(y_test, y_pred, average='macro')\n",
    "    \n",
    "    print(\"Macro-average quality numbers\")\n",
    "    print(\"Precision: {:.4f}, Recall: {:.4f}, F1-measure: {:.4f}\".format(precision, recall, f1))\n",
    "\n",
    "    print(classification_report(y_test, y_pred, target_names=classes, zero_division=0))\n",
    "\n",
    "    print(f\"evaluate > Time taken to run this cell : {datetime.now() - start}\\n\")"
   ]
  },
  {
   "cell_type": "markdown",
   "metadata": {},
   "source": [
    "***\n",
    "## 4.1 Latent Dirichlet Allocation"
   ]
  },
  {
   "cell_type": "code",
   "execution_count": 51,
   "metadata": {},
   "outputs": [],
   "source": [
    "if config[\"baseline\"]:\n",
    "\n",
    "    param_grid = {\n",
    "        \"n_components\": [10],\n",
    "        \"learning_decay\": [.7],\n",
    "        \"random_state\": [0],\n",
    "        \"n_jobs\": [10]\n",
    "    }\n",
    "\n",
    "    gs, feature_names, data_bow, vectorizer, lda_output_dataframe = latent_dirichlet_allocation_tuning(data[\"Sentence\"], param_grid)"
   ]
  },
  {
   "cell_type": "code",
   "execution_count": 52,
   "metadata": {},
   "outputs": [],
   "source": [
    "if config[\"baseline\"]:\n",
    "\n",
    "    print(f\"Log likelihood: {gs.best_estimator_.score(data_bow)}\")\n",
    "    print(f\"Perplexity: {gs.best_estimator_.perplexity(data_bow)}\")\n",
    "    print(f\"Best params: {gs.best_params_}\")"
   ]
  },
  {
   "cell_type": "code",
   "execution_count": 53,
   "metadata": {},
   "outputs": [],
   "source": [
    "if config[\"baseline\"]:\n",
    "\n",
    "    dominant_topic_df = get_dominant_topic(gs.best_estimator_, data_bow, data.shape[0])\n",
    "    dominant_topic_df.head()"
   ]
  },
  {
   "cell_type": "code",
   "execution_count": 54,
   "metadata": {},
   "outputs": [],
   "source": [
    "if config[\"baseline\"]:\n",
    "\n",
    "    topic_distribution(dominant_topic_df)"
   ]
  },
  {
   "cell_type": "code",
   "execution_count": 55,
   "metadata": {},
   "outputs": [],
   "source": [
    "if config[\"baseline\"]:\n",
    "\n",
    "    topic_keywords_df = pd.DataFrame(data=gs.best_estimator_.components_, columns=feature_names, index=dominant_topic_df.columns[:-1])\n",
    "    topic_keywords_df.info()    "
   ]
  },
  {
   "cell_type": "code",
   "execution_count": 56,
   "metadata": {},
   "outputs": [],
   "source": [
    "display = None\n",
    "\n",
    "if config[\"baseline\"]:\n",
    "\n",
    "    display = topic_keywords_df.iloc[:, :20]\n",
    "\n",
    "display"
   ]
  },
  {
   "cell_type": "code",
   "execution_count": 57,
   "metadata": {},
   "outputs": [],
   "source": [
    "display = None\n",
    "\n",
    "if config[\"baseline\"]:\n",
    "\n",
    "    topic_keywords_dataset = topic_words(lda_model=gs.best_estimator_, feature_names=feature_names, n_words=20)\n",
    "    display = topic_keywords_dataset\n",
    "\n",
    "display"
   ]
  },
  {
   "cell_type": "code",
   "execution_count": 58,
   "metadata": {},
   "outputs": [],
   "source": [
    "if config[\"baseline\"]:\n",
    "\n",
    "    param_grid = {\n",
    "        \"estimator__solver\": [\"liblinear\"],\n",
    "        \"estimator__penalty\": [\"l1\"],\n",
    "        \"estimator__random_state\": [0],\n",
    "    }\n",
    "\n",
    "    model = LogisticRegression()\n",
    "    meta_model = OneVsRestClassifier(model)\n",
    "    gs, classes, y_test, y_pred = classifier_tuning_post_lda(lda_output_dataframe, data[\"Tags_Reduced\"], meta_model, model, param_grid)\n",
    "    evaluate(gs, classes, y_test, y_pred)"
   ]
  },
  {
   "cell_type": "markdown",
   "metadata": {},
   "source": [
    "***\n",
    "## 4.2 Results"
   ]
  },
  {
   "cell_type": "markdown",
   "metadata": {},
   "source": [
    "<img src=\"records/lda_results_metrics.png\" style=\"background-color:white\">"
   ]
  },
  {
   "cell_type": "markdown",
   "metadata": {},
   "source": [
    "<img src=\"records/lda_results_topic_distrib_plot.png\" style=\"background-color:white\">"
   ]
  },
  {
   "cell_type": "markdown",
   "metadata": {},
   "source": [
    "<img src=\"records/lda_results_topic_words.png\" style=\"background-color:white\">"
   ]
  },
  {
   "cell_type": "markdown",
   "metadata": {},
   "source": [
    "<img src=\"records/logistic_classifier_results_01.png\" style=\"background-color:white\">"
   ]
  },
  {
   "cell_type": "markdown",
   "metadata": {},
   "source": [
    "<img src=\"records/logistic_classifier_results_02.png\" style=\"background-color:white\">"
   ]
  },
  {
   "cell_type": "markdown",
   "metadata": {},
   "source": [
    "<img src=\"records/logistic_classifier_results_03.png\" style=\"background-color:white\">"
   ]
  },
  {
   "cell_type": "markdown",
   "metadata": {},
   "source": [
    "***\n",
    "# 5 BERT_base"
   ]
  },
  {
   "cell_type": "markdown",
   "metadata": {},
   "source": [
    "## 5.0 Utils"
   ]
  },
  {
   "cell_type": "code",
   "execution_count": 59,
   "metadata": {},
   "outputs": [],
   "source": [
    "def make_pseudo_list(row):\n",
    "    ls = row[\"Tags_Reduced\"]\n",
    "    cell = \"[\"\n",
    "    for elt in ls:\n",
    "        cell = cell + \"'\" + elt + \"',\"\n",
    "    cell = cell + \"]\"\n",
    "    return cell"
   ]
  },
  {
   "cell_type": "code",
   "execution_count": 60,
   "metadata": {},
   "outputs": [],
   "source": [
    "def at_least_two(row):\n",
    "    tags_list = row[\"Tags_Reduced\"]\n",
    "    tags_list_len = len(tags_list)\n",
    "    if tags_list_len > 1:\n",
    "        return row[\"Tags_Reduced\"]"
   ]
  },
  {
   "cell_type": "code",
   "execution_count": null,
   "metadata": {},
   "outputs": [],
   "source": [
    "# about multilabelbinarizer, reverse action\n",
    "def to_class(mlb, vec):\n",
    "    indexes = [i for i in range(len(vec)) if vec[i] != 0]\n",
    "    return ' '.join([list(mlb.classes_)[i] for i in indexes])"
   ]
  },
  {
   "cell_type": "code",
   "execution_count": 61,
   "metadata": {},
   "outputs": [],
   "source": [
    "def multi_label_accuracy(y_true: tf.Tensor, y_pred: tf.Tensor) -> tf.Tensor:\n",
    "    \"\"\"For multi-label classification, one has to define a custom\n",
    "    acccuracy function because neither tf.keras.metrics.Accuracy nor\n",
    "    tf.keras.metrics.CategoricalAccuracy evaluate the number of \n",
    "    exact matches.\n",
    "\n",
    "    :Example:\n",
    "    >>> from tensorflow.keras import metrics\n",
    "    >>> y_true = tf.convert_to_tensor([[1., 1.]])\n",
    "    >>> y_pred = tf.convert_to_tensor([[1., 0.]])\n",
    "    >>> metrics.Accuracy()(y_true, y_pred).numpy()\n",
    "    0.5\n",
    "    >>> metrics.CategoricalAccuracy()(y_true, y_pred).numpy()\n",
    "    1.0\n",
    "    >>> multi_label_accuracy(y_true, y_pred).numpy()\n",
    "    0.0\n",
    "    \"\"\"   \n",
    "    y_pred = tf.math.round(y_pred)\n",
    "    exact_matches = tf.math.reduce_all(y_pred == y_true, axis=1)\n",
    "    exact_matches = tf.cast(exact_matches, tf.float32)\n",
    "    return tf.math.reduce_mean(exact_matches)"
   ]
  },
  {
   "cell_type": "code",
   "execution_count": 62,
   "metadata": {},
   "outputs": [],
   "source": [
    "def visualize_history(history, figsize=(20, 10), metrics: str = \"categorical_accuracy\"):\n",
    "    fix, axs = plt.subplots(2, 1, figsize=figsize, sharex=True)\n",
    "\n",
    "    plt.subplot(2, 1, 1)\n",
    "    plt.title(\"Loss\")\n",
    "    sns.lineplot(data=history, x=history.index, y=\"loss\", label=\"loss\")\n",
    "    sns.lineplot(data=history, x=history.index, y=\"val_loss\", label=\"val_loss\")\n",
    "    plt.xlabel(\"epochs\")\n",
    "    plt.tick_params(labelright=True)\n",
    "    plt.legend()\n",
    "    plt.grid()\n",
    "\n",
    "    plt.subplot(2, 1, 2)\n",
    "    plt.title(\"Accuracy\")\n",
    "    sns.lineplot(data=history, x=history.index, y=metrics, label=metrics)\n",
    "    sns.lineplot(data=history, x=history.index, y=\"val_\" + metrics, label=\"val_\" + metrics)\n",
    "    plt.xlabel(\"epochs\")\n",
    "    plt.tick_params(labelright=True)\n",
    "    plt.legend()\n",
    "    plt.grid()"
   ]
  },
  {
   "cell_type": "markdown",
   "metadata": {},
   "source": [
    "***\n",
    "## 5.1 Data rearrangment"
   ]
  },
  {
   "cell_type": "code",
   "execution_count": 63,
   "metadata": {},
   "outputs": [
    {
     "data": {
      "text/html": [
       "<div>\n",
       "<style scoped>\n",
       "    .dataframe tbody tr th:only-of-type {\n",
       "        vertical-align: middle;\n",
       "    }\n",
       "\n",
       "    .dataframe tbody tr th {\n",
       "        vertical-align: top;\n",
       "    }\n",
       "\n",
       "    .dataframe thead th {\n",
       "        text-align: right;\n",
       "    }\n",
       "</style>\n",
       "<table border=\"1\" class=\"dataframe\">\n",
       "  <thead>\n",
       "    <tr style=\"text-align: right;\">\n",
       "      <th></th>\n",
       "      <th>Sentence_Pristine</th>\n",
       "      <th>Tags_Reduced</th>\n",
       "    </tr>\n",
       "  </thead>\n",
       "  <tbody>\n",
       "    <tr>\n",
       "      <th>0</th>\n",
       "      <td>how to convert a decimal to a double in c#? i ...</td>\n",
       "      <td>[c#]</td>\n",
       "    </tr>\n",
       "    <tr>\n",
       "      <th>1</th>\n",
       "      <td>why did the width collapse in the percentage w...</td>\n",
       "      <td>[html, css]</td>\n",
       "    </tr>\n",
       "    <tr>\n",
       "      <th>2</th>\n",
       "      <td>how do i calculate someone's age based on a da...</td>\n",
       "      <td>[c#, .net]</td>\n",
       "    </tr>\n",
       "    <tr>\n",
       "      <th>3</th>\n",
       "      <td>calculate relative time in c# given a specific...</td>\n",
       "      <td>[c#]</td>\n",
       "    </tr>\n",
       "    <tr>\n",
       "      <th>4</th>\n",
       "      <td>determine a user's timezone is there a standar...</td>\n",
       "      <td>[html, browser]</td>\n",
       "    </tr>\n",
       "  </tbody>\n",
       "</table>\n",
       "</div>"
      ],
      "text/plain": [
       "                                   Sentence_Pristine     Tags_Reduced\n",
       "0  how to convert a decimal to a double in c#? i ...             [c#]\n",
       "1  why did the width collapse in the percentage w...      [html, css]\n",
       "2  how do i calculate someone's age based on a da...       [c#, .net]\n",
       "3  calculate relative time in c# given a specific...             [c#]\n",
       "4  determine a user's timezone is there a standar...  [html, browser]"
      ]
     },
     "execution_count": 63,
     "metadata": {},
     "output_type": "execute_result"
    }
   ],
   "source": [
    "data = data[[\"Sentence_Pristine\", \"Tags_Reduced\"]]\n",
    "data.head()"
   ]
  },
  {
   "cell_type": "code",
   "execution_count": 64,
   "metadata": {},
   "outputs": [
    {
     "data": {
      "text/plain": [
       "(50000, 2)"
      ]
     },
     "execution_count": 64,
     "metadata": {},
     "output_type": "execute_result"
    }
   ],
   "source": [
    "data.shape"
   ]
  },
  {
   "cell_type": "code",
   "execution_count": 65,
   "metadata": {},
   "outputs": [],
   "source": [
    "data = data.iloc[:1000]"
   ]
  },
  {
   "cell_type": "code",
   "execution_count": 66,
   "metadata": {},
   "outputs": [
    {
     "data": {
      "text/plain": [
       "(1000, 2)"
      ]
     },
     "execution_count": 66,
     "metadata": {},
     "output_type": "execute_result"
    }
   ],
   "source": [
    "data.shape"
   ]
  },
  {
   "cell_type": "code",
   "execution_count": 69,
   "metadata": {},
   "outputs": [],
   "source": [
    "data[\"Tags_Reduced\"] = data.apply(lambda row: at_least_two(row), axis=1)\n",
    "data.dropna(subset=[\"Tags_Reduced\"], inplace=True)"
   ]
  },
  {
   "cell_type": "code",
   "execution_count": 70,
   "metadata": {},
   "outputs": [
    {
     "data": {
      "text/plain": [
       "(542, 2)"
      ]
     },
     "execution_count": 70,
     "metadata": {},
     "output_type": "execute_result"
    }
   ],
   "source": [
    "data.shape"
   ]
  },
  {
   "cell_type": "markdown",
   "metadata": {},
   "source": [
    "***\n",
    "## 5.3 Data split"
   ]
  },
  {
   "cell_type": "code",
   "execution_count": 71,
   "metadata": {},
   "outputs": [],
   "source": [
    "data, data_test = train_test_split(data, test_size=0.2)"
   ]
  },
  {
   "cell_type": "code",
   "execution_count": 72,
   "metadata": {},
   "outputs": [
    {
     "data": {
      "text/plain": [
       "Text(0.5, 1.0, 'Texts length distribution (number of words):')"
      ]
     },
     "execution_count": 72,
     "metadata": {},
     "output_type": "execute_result"
    },
    {
     "data": {
      "image/png": "[encoded data removed]",
      "text/plain": [
       "<Figure size 432x288 with 1 Axes>"
      ]
     },
     "metadata": {
      "needs_background": "light"
     },
     "output_type": "display_data"
    }
   ],
   "source": [
    "text_lenghts = [len(t.split()) for t in data[\"Sentence_Pristine\"]]\n",
    "ax = sns.histplot(data=text_lenghts, kde=True, stat=\"density\")\n",
    "ax.set_title(\"Texts length distribution (number of words):\")"
   ]
  },
  {
   "cell_type": "code",
   "execution_count": 73,
   "metadata": {},
   "outputs": [],
   "source": [
    "max_length = 200"
   ]
  },
  {
   "cell_type": "markdown",
   "metadata": {},
   "source": [
    "***\n",
    "## 5.1 Loading BERT"
   ]
  },
  {
   "cell_type": "code",
   "execution_count": 74,
   "metadata": {},
   "outputs": [],
   "source": [
    "model_name = \"bert-base-uncased\""
   ]
  },
  {
   "cell_type": "code",
   "execution_count": 75,
   "metadata": {},
   "outputs": [],
   "source": [
    "config = BertConfig.from_pretrained(model_name)\n",
    "config.output_hidden_states = False"
   ]
  },
  {
   "cell_type": "code",
   "execution_count": 76,
   "metadata": {},
   "outputs": [],
   "source": [
    "tokenizer = BertTokenizerFast.from_pretrained(pretrained_model_name_or_path=model_name, config=config)"
   ]
  },
  {
   "cell_type": "code",
   "execution_count": 77,
   "metadata": {},
   "outputs": [
    {
     "name": "stderr",
     "output_type": "stream",
     "text": [
      "2022-02-13 17:27:20.687136: I tensorflow/stream_executor/cuda/cuda_gpu_executor.cc:936] successful NUMA node read from SysFS had negative value (-1), but there must be at least one NUMA node, so returning NUMA node zero\n",
      "2022-02-13 17:27:20.687918: I tensorflow/stream_executor/cuda/cuda_gpu_executor.cc:936] successful NUMA node read from SysFS had negative value (-1), but there must be at least one NUMA node, so returning NUMA node zero\n",
      "2022-02-13 17:27:20.688395: I tensorflow/stream_executor/cuda/cuda_gpu_executor.cc:936] successful NUMA node read from SysFS had negative value (-1), but there must be at least one NUMA node, so returning NUMA node zero\n",
      "2022-02-13 17:27:20.689239: I tensorflow/stream_executor/cuda/cuda_gpu_executor.cc:936] successful NUMA node read from SysFS had negative value (-1), but there must be at least one NUMA node, so returning NUMA node zero\n",
      "2022-02-13 17:27:20.689592: I tensorflow/stream_executor/cuda/cuda_gpu_executor.cc:936] successful NUMA node read from SysFS had negative value (-1), but there must be at least one NUMA node, so returning NUMA node zero\n",
      "2022-02-13 17:27:20.689906: I tensorflow/stream_executor/cuda/cuda_gpu_executor.cc:936] successful NUMA node read from SysFS had negative value (-1), but there must be at least one NUMA node, so returning NUMA node zero\n",
      "2022-02-13 17:27:20.690418: I tensorflow/stream_executor/cuda/cuda_gpu_executor.cc:936] successful NUMA node read from SysFS had negative value (-1), but there must be at least one NUMA node, so returning NUMA node zero\n",
      "2022-02-13 17:27:20.690934: I tensorflow/stream_executor/cuda/cuda_gpu_executor.cc:936] successful NUMA node read from SysFS had negative value (-1), but there must be at least one NUMA node, so returning NUMA node zero\n",
      "2022-02-13 17:27:20.691240: I tensorflow/core/common_runtime/gpu/gpu_device.cc:1525] Created device /job:localhost/replica:0/task:0/device:GPU:0 with 3299 MB memory:  -> device: 0, name: Quadro P2000, pci bus id: 0000:01:00.0, compute capability: 6.1\n",
      "Some layers from the model checkpoint at bert-base-uncased were not used when initializing TFBertModel: ['mlm___cls', 'nsp___cls']\n",
      "- This IS expected if you are initializing TFBertModel from the checkpoint of a model trained on another task or with another architecture (e.g. initializing a BertForSequenceClassification model from a BertForPreTraining model).\n",
      "- This IS NOT expected if you are initializing TFBertModel from the checkpoint of a model that you expect to be exactly identical (initializing a BertForSequenceClassification model from a BertForSequenceClassification model).\n",
      "All the layers of TFBertModel were initialized from the model checkpoint at bert-base-uncased.\n",
      "If your task is similar to the task the model of the checkpoint was trained on, you can already use TFBertModel for predictions without further training.\n"
     ]
    }
   ],
   "source": [
    "transformer_model = TFBertModel.from_pretrained(pretrained_model_name_or_path=model_name, config=config)"
   ]
  },
  {
   "cell_type": "markdown",
   "metadata": {},
   "source": [
    "***\n",
    "## 5.2 BERT Tokenizer"
   ]
  },
  {
   "cell_type": "code",
   "execution_count": 78,
   "metadata": {},
   "outputs": [],
   "source": [
    "X = tokenizer(\n",
    "    text=data[\"Sentence_Pristine\"].to_list(),\n",
    "    add_special_tokens=True,\n",
    "    max_length=max_length,\n",
    "    truncation=True,\n",
    "    padding=True,\n",
    "    return_tensors='tf',\n",
    "    return_token_type_ids=False,\n",
    "    return_attention_mask=True,\n",
    "    verbose=True\n",
    ")\n",
    "\n",
    "# y_tags = to_categorical(data[\"Tags_Reduced\"])\n",
    "\n",
    "test_x = tokenizer(\n",
    "    text=data_test[\"Sentence_Pristine\"].to_list(),\n",
    "    add_special_tokens=True,\n",
    "    max_length=max_length,\n",
    "    truncation=True,\n",
    "    padding=True, \n",
    "    return_tensors='tf',\n",
    "    return_token_type_ids = False,\n",
    "    return_attention_mask = True,\n",
    "    verbose = True\n",
    ")\n",
    "\n",
    "# test_y_tags = to_categorical(data_test[\"Tags_Reduced\"])"
   ]
  },
  {
   "cell_type": "code",
   "execution_count": 79,
   "metadata": {},
   "outputs": [],
   "source": [
    "binarizer = MultiLabelBinarizer()"
   ]
  },
  {
   "cell_type": "code",
   "execution_count": 83,
   "metadata": {},
   "outputs": [],
   "source": [
    "y_tags = binarizer.fit_transform(data[\"Tags_Reduced\"])\n",
    "test_y_tags = binarizer.transform(data_test[\"Tags_Reduced\"])"
   ]
  },
  {
   "cell_type": "code",
   "execution_count": 84,
   "metadata": {},
   "outputs": [
    {
     "data": {
      "text/plain": [
       "array([[0, 0, 0, 0, 0, 0, 0, 0, 0, 0, 0, 0, 0, 0, 0, 0, 0, 0, 0, 0, 0, 0,\n",
       "        0, 0, 0, 0, 0, 0, 0, 0, 0, 0, 1, 0, 0, 0, 0, 0, 0, 0, 0, 0, 0, 1,\n",
       "        0, 0, 0, 0, 0, 0, 0, 0, 0, 0, 0, 0, 0, 0, 0, 0, 0, 0, 0, 0, 0, 0,\n",
       "        0, 0, 0, 0, 0, 0, 0, 0, 0, 0, 0, 0, 0, 0, 0, 0, 0, 0, 0, 0, 0, 0,\n",
       "        0, 0, 0, 0, 0, 0, 0, 0, 0],\n",
       "       [0, 0, 0, 0, 0, 0, 0, 0, 0, 0, 1, 0, 0, 0, 1, 0, 0, 0, 0, 0, 0, 0,\n",
       "        0, 0, 0, 0, 0, 0, 0, 0, 0, 0, 0, 0, 0, 0, 0, 0, 0, 0, 0, 0, 0, 0,\n",
       "        1, 0, 0, 0, 0, 0, 0, 0, 0, 0, 0, 0, 0, 0, 0, 0, 0, 0, 0, 0, 0, 0,\n",
       "        0, 0, 0, 0, 0, 0, 0, 0, 0, 0, 0, 0, 0, 0, 0, 0, 0, 0, 0, 0, 0, 0,\n",
       "        0, 0, 0, 0, 0, 0, 0, 0, 0]])"
      ]
     },
     "execution_count": 84,
     "metadata": {},
     "output_type": "execute_result"
    }
   ],
   "source": [
    "y_tags[:2]"
   ]
  },
  {
   "cell_type": "markdown",
   "metadata": {},
   "source": [
    "***\n",
    "## 5.5 Tensorflow dataset creation"
   ]
  },
  {
   "cell_type": "code",
   "execution_count": 85,
   "metadata": {},
   "outputs": [],
   "source": [
    "ds_train = tf.data.Dataset.from_tensor_slices((dict(X), y_tags))\n",
    "ds_test = tf.data.Dataset.from_tensor_slices((dict(test_x), test_y_tags))"
   ]
  },
  {
   "cell_type": "markdown",
   "metadata": {},
   "source": [
    "***\n",
    "## 5.2 Network"
   ]
  },
  {
   "cell_type": "markdown",
   "metadata": {},
   "source": [
    "https://keras.io/examples/nlp/multi_label_classification/"
   ]
  },
  {
   "cell_type": "code",
   "execution_count": 86,
   "metadata": {},
   "outputs": [],
   "source": [
    "bert = transformer_model.layers[0]"
   ]
  },
  {
   "cell_type": "code",
   "execution_count": 87,
   "metadata": {},
   "outputs": [
    {
     "name": "stdout",
     "output_type": "stream",
     "text": [
      "Model: \"BERT_MultiLabel_MultiClass\"\n",
      "_________________________________________________________________\n",
      " Layer (type)                Output Shape              Param #   \n",
      "=================================================================\n",
      " input_ids (InputLayer)      [(None, 200)]             0         \n",
      "                                                                 \n",
      " bert (TFBertMainLayer)      TFBaseModelOutputWithPoo  109482240 \n",
      "                             lingAndCrossAttentions(l            \n",
      "                             ast_hidden_state=(None,             \n",
      "                             200, 768),                          \n",
      "                              pooler_output=(None, 76            \n",
      "                             8),                                 \n",
      "                              past_key_values=None, h            \n",
      "                             idden_states=None, atten            \n",
      "                             tions=None, cross_attent            \n",
      "                             ions=None)                          \n",
      "                                                                 \n",
      " tf.__operators__.getitem (S  (None, 768)              0         \n",
      " licingOpLambda)                                                 \n",
      "                                                                 \n",
      " pooled_output (Dropout)     (None, 768)               0         \n",
      "                                                                 \n",
      " output (Dense)              (None, 97)                74593     \n",
      "                                                                 \n",
      "=================================================================\n",
      "Total params: 109,556,833\n",
      "Trainable params: 109,556,833\n",
      "Non-trainable params: 0\n",
      "_________________________________________________________________\n"
     ]
    }
   ],
   "source": [
    "input_ids = keras.layers.Input(shape=(max_length,), name=\"input_ids\", dtype=\"int32\")\n",
    "inputs = {\"input_ids\": input_ids}\n",
    "\n",
    "bert_model = bert(inputs)[0][:, 0, :]\n",
    "dropout = keras.layers.Dropout(config.hidden_dropout_prob, name=\"pooled_output\")\n",
    "pooled_output = dropout(bert_model, training=False)\n",
    "\n",
    "output = keras.layers.Dense(\n",
    "    units=y_tags.shape[1],\n",
    "    kernel_initializer=TruncatedNormal(stddev=config.initializer_range),\n",
    "    activation=\"sigmoid\",\n",
    "    name=\"output\"\n",
    ")(pooled_output)\n",
    "\n",
    "model = Model(inputs=inputs, outputs=output, name='BERT_MultiLabel_MultiClass')\n",
    "\n",
    "model.summary()"
   ]
  },
  {
   "cell_type": "code",
   "execution_count": 88,
   "metadata": {},
   "outputs": [],
   "source": [
    "checkpoint = tf.keras.callbacks.ModelCheckpoint(\n",
    "    './bert_base.model',\n",
    "    monitor='val_loss',\n",
    "    verbose=1,\n",
    "    save_best_only=True,\n",
    "    mode='min',\n",
    "    save_weights_only=False,\n",
    "    save_freq=1\n",
    ")\n",
    "\n",
    "early_stopping_callback = tf.keras.callbacks.EarlyStopping(\n",
    "    monitor=\"val_loss\",\n",
    "    min_delta=0.001,\n",
    "    patience=3,\n",
    "    restore_best_weights=True\n",
    ")\n",
    "\n",
    "optimizer = Adam(\n",
    "    learning_rate=5e-05,\n",
    "    epsilon=1e-08,\n",
    "    decay=0.01,\n",
    "    clipnorm=1.0\n",
    ")\n",
    "\n",
    "adam = Adam(5e-5)\n",
    "loss = BinaryCrossentropy()\n",
    "# loss = CategoricalCrossentropy(from_logits = True)\n",
    "metric_accuracy = CategoricalAccuracy('accuracy')\n",
    "\n",
    "model.compile(\n",
    "    optimizer=adam,\n",
    "    loss=loss,\n",
    "    metrics=[\n",
    "        # metric_accuracy,\n",
    "        multi_label_accuracy,\n",
    "        \"binary_accuracy\",\n",
    "        AUC(name=\"average_precision\", curve=\"PR\", multi_label=True)\n",
    "    ]\n",
    ")"
   ]
  },
  {
   "cell_type": "code",
   "execution_count": 89,
   "metadata": {},
   "outputs": [
    {
     "name": "stdout",
     "output_type": "stream",
     "text": [
      "Epoch 1/5\n",
      "WARNING:tensorflow:Gradients do not exist for variables ['tf_bert_model/bert/pooler/dense/kernel:0', 'tf_bert_model/bert/pooler/dense/bias:0'] when minimizing the loss. If you're using `model.compile()`, did you forget to provide a `loss`argument?\n",
      "WARNING:tensorflow:Gradients do not exist for variables ['tf_bert_model/bert/pooler/dense/kernel:0', 'tf_bert_model/bert/pooler/dense/bias:0'] when minimizing the loss. If you're using `model.compile()`, did you forget to provide a `loss`argument?\n",
      "109/109 [==============================] - 82s 633ms/step - loss: 0.2630 - multi_label_accuracy: 0.0000e+00 - binary_accuracy: 0.9645 - average_precision: 0.0286 - val_loss: 0.1480 - val_multi_label_accuracy: 0.0000e+00 - val_binary_accuracy: 0.9754 - val_average_precision: 0.0267\n",
      "Epoch 2/5\n",
      "101/109 [==========================>...] - ETA: 4s - loss: 0.1281 - multi_label_accuracy: 0.0000e+00 - binary_accuracy: 0.9754 - average_precision: 0.0255"
     ]
    }
   ],
   "source": [
    "EPOCHS = 5\n",
    "\n",
    "history = model.fit(\n",
    "    ds_train.shuffle(1000).batch(4),\n",
    "    validation_data=ds_test.batch(4),\n",
    "    epochs=EPOCHS,\n",
    "    batch_size=4,\n",
    "    callbacks=[early_stopping_callback],\n",
    "    workers=8,\n",
    "    # validation_split=0.2\n",
    ")"
   ]
  },
  {
   "cell_type": "markdown",
   "metadata": {},
   "source": [
    "***\n",
    "## 5.3 Results"
   ]
  },
  {
   "cell_type": "code",
   "execution_count": null,
   "metadata": {},
   "outputs": [],
   "source": [
    "benchmarks = model.evaluate(\n",
    "    ds_test.batch(4),\n",
    "    return_dict=True,\n",
    "    batch_size=4\n",
    ")\n",
    "\n",
    "benchmarks\n",
    "\n",
    "# evaluation[\"BERT_base\"] = [\n",
    "#     benchmarks[k] for k in \n",
    "#     [\"multi_label_accuracy\", \"binary_accuracy\", \"loss\", \"average_precision\"]\n",
    "# ]\n",
    "# evaluation"
   ]
  },
  {
   "cell_type": "code",
   "execution_count": null,
   "metadata": {},
   "outputs": [],
   "source": [
    "history_bert = pd.DataFrame(data=history.history)\n",
    "# visualize_history(history_bert, metrics=\"binary_accuracy\")\n",
    "for metric in [\"multi_label_accuracy\", \"binary_accuracy\", \"average_precision\"]:\n",
    "    visualize_history(history_bert, metrics=metric)"
   ]
  },
  {
   "cell_type": "markdown",
   "metadata": {},
   "source": [
    "***\n",
    "# 6 Conclusion"
   ]
  }
 ],
 "metadata": {
  "interpreter": {
   "hash": "586ad1ed5c97141e2437e681efbf1ec0adcd17d830cf5af2ca3d2819e743e158"
  },
  "kernelspec": {
   "display_name": "Python 3.8.12 ('base')",
   "language": "python",
   "name": "python3"
  },
  "language_info": {
   "codemirror_mode": {
    "name": "ipython",
    "version": 3
   },
   "file_extension": ".py",
   "mimetype": "text/x-python",
   "name": "python",
   "nbconvert_exporter": "python",
   "pygments_lexer": "ipython3",
   "version": "3.8.12"
  },
  "orig_nbformat": 4
 },
 "nbformat": 4,
 "nbformat_minor": 2
}
